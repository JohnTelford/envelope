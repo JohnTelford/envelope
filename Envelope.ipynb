{
 "cells": [
  {
   "cell_type": "markdown",
   "metadata": {},
   "source": [
    "## git\n",
    "\n",
    "### To Do\n",
    "\n",
    "- Create project repo \n",
    "\n",
    "- CSV files for CC, Mary Checking, John checking\n",
    "\n",
    "## First Tech\n",
    "\n",
    "Clear Envelop directory. The First Tech lCSV account files are numbered consecultive with account name.\n",
    "\n",
    "Create repo SVC files for CC, Mary Checking, John checking\n",
    "\n",
    "Use `numbers` to delete the first few columns\n",
    "\n",
    "Add `numbers` tables for each `CSV` and `gawk` progams process eachtables\n",
    "\n",
    "`gawk` program skeleton\n",
    "`gawk 'BEGIN { FS = \",\" } ; { print $4 $7 }' CSV-File.csv`\n",
    "\n"
   ]
  }
 ],
 "metadata": {
  "kernelspec": {
   "display_name": ".venv",
   "language": "python",
   "name": "python3"
  },
  "language_info": {
   "name": "python",
   "version": "3.12.2"
  }
 },
 "nbformat": 4,
 "nbformat_minor": 2
}
